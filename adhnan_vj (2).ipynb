{
  "nbformat": 4,
  "nbformat_minor": 0,
  "metadata": {
    "colab": {
      "provenance": []
    },
    "kernelspec": {
      "name": "python3",
      "display_name": "Python 3"
    },
    "language_info": {
      "name": "python"
    }
  },
  "cells": [
    {
      "cell_type": "markdown",
      "source": [],
      "metadata": {
        "id": "vFiAVZiIYNBT"
      }
    },
    {
      "cell_type": "code",
      "source": [
        "'''Write a Python function to accept a string value from the user and display the\n",
        "count of each character in that string. Sample input: Enter a string value:\n",
        "assembly Sample output: a=1, s=2, e=1, m=1, b=1, l=1, y=1'''\n",
        "\n",
        "def count(n):\n",
        "  letters=0\n",
        "  for char in n:\n",
        "    if char (\"abcdefghijklmnopqrstuvwxyzABCDEFGHIJKLMNOPQRSTUVWXYZ\"):\n",
        "      letters += 1\n",
        "\n",
        "x=int(input('Enter the string: '))\n"
      ],
      "metadata": {
        "colab": {
          "base_uri": "https://localhost:8080/"
        },
        "id": "JCaFnaNfNk3f",
        "outputId": "45ce67bd-0719-4840-e68c-2521e782c7c3"
      },
      "execution_count": 102,
      "outputs": [
        {
          "name": "stdout",
          "output_type": "stream",
          "text": [
            "Enter the string: 1\n"
          ]
        }
      ]
    },
    {
      "cell_type": "code",
      "source": [
        "'''Write a Python function to find the maximum of three numbers Sample input:\n",
        "34,12,7 Sample output: 34'''\n",
        "\n",
        "def findmax(a,b,c):\n",
        "  return max(a,b,c)\n",
        "a = float(input(\"Enter the first number: \"))\n",
        "b = float(input(\"Enter the second number: \"))\n",
        "c = float(input(\"Enter the third number: \"))\n",
        "if a>b and a>c:\n",
        "  print(a,'is the maximum')\n",
        "elif b>a and b>c:\n",
        "  print(b,'is the maximum')\n",
        "else:\n",
        "  print(c,'is the maximum')"
      ],
      "metadata": {
        "colab": {
          "base_uri": "https://localhost:8080/"
        },
        "id": "IaEnNHWiZxEf",
        "outputId": "11803232-21b1-4a40-d569-3d5e3fe94da3"
      },
      "execution_count": 60,
      "outputs": [
        {
          "output_type": "stream",
          "name": "stdout",
          "text": [
            "Enter the first number: 1\n",
            "Enter the second number: 2\n",
            "Enter the third number: 3\n",
            "3.0 is the maximum\n"
          ]
        }
      ]
    },
    {
      "cell_type": "code",
      "source": [
        "'''Write a Python function called exponent(base,exp) that returns an integer\n",
        "value of base raises to the power of exp. Sample input: Enter the base: 2\n",
        "Enter the exponent: 3 Sample output: 8'''\n",
        "\n",
        "def exponent(base, exp):\n",
        "    return base ** exp\n",
        "base = float(input(\"Enter the base: \"))\n",
        "exp = float(input(\"Enter the exp: \"))\n",
        "result = exponent(base, exp)\n",
        "print(result)\n"
      ],
      "metadata": {
        "colab": {
          "base_uri": "https://localhost:8080/"
        },
        "id": "tpoF8oL7b7tR",
        "outputId": "90dcb85a-1867-4b97-cf1c-cfe6bfe2523b"
      },
      "execution_count": 62,
      "outputs": [
        {
          "output_type": "stream",
          "name": "stdout",
          "text": [
            "Enter the base: 2\n",
            "Enter the exp: 3\n",
            "8.0\n"
          ]
        }
      ]
    },
    {
      "cell_type": "code",
      "source": [
        "'''Write a Python function to find the sum of squares of the numbers in a list.\n",
        "Sample input: 2,1,3,1 Sample output: 15'''\n",
        "\n",
        "def sum_square(numbers):\n",
        "  sum_square = 0\n",
        "  for number in numbers:\n",
        "    sum_square += number**2\n",
        "  return sum_square"
      ],
      "metadata": {
        "id": "xthJUcy9vOOx"
      },
      "execution_count": 112,
      "outputs": []
    },
    {
      "cell_type": "code",
      "source": [
        "'''Write a Python program using for loop that will iterate from 1 to 15. For each\n",
        "iteration, check if the current number is odd or even, and display the message\n",
        "to the screen as odd or even. Sample input: 1….15 Sample output: 1-odd 2-\n",
        "even …. 15-odd '''\n",
        "\n",
        "for i in range(1,16):\n",
        "  if i%2==0:\n",
        "    print(f\"{i} - even\")\n",
        "  else:\n",
        "    print(f\"{i} - odd\")"
      ],
      "metadata": {
        "colab": {
          "base_uri": "https://localhost:8080/"
        },
        "id": "wmHc-ugFzKhH",
        "outputId": "ed23a035-9c16-4c6e-c3f8-37ac5dbc3cc3"
      },
      "execution_count": 111,
      "outputs": [
        {
          "output_type": "stream",
          "name": "stdout",
          "text": [
            "1 - odd\n",
            "2 - even\n",
            "3 - odd\n",
            "4 - even\n",
            "5 - odd\n",
            "6 - even\n",
            "7 - odd\n",
            "8 - even\n",
            "9 - odd\n",
            "10 - even\n",
            "11 - odd\n",
            "12 - even\n",
            "13 - odd\n",
            "14 - even\n",
            "15 - odd\n"
          ]
        }
      ]
    },
    {
      "cell_type": "code",
      "source": [
        "'''Write a Python function to convert temperatures to and from Celsius\n",
        "Fahrenheit. [Formula: c/5=f-32/9 where c=temperature in Celsius and f=\n",
        "temperature in Fahrenheit.] Sample input: Temperature in Fahrenheit =41\n",
        "Sample output: Temperature in Celsius =5'''\n",
        "\n",
        "def convert_temp(temp, unit):\n",
        "  if unit == \"C\":\n",
        "    return (9/5) * temp + 32\n",
        "  elif unit == \"F\":\n",
        "    return (5/9) * (temp - 32)\n",
        "  else:\n",
        "    print ValueError(\"Invalid unit: {}\".format(unit))"
      ],
      "metadata": {
        "colab": {
          "base_uri": "https://localhost:8080/",
          "height": 106
        },
        "id": "6LeYIOD9z5be",
        "outputId": "2995698f-15a9-4de9-ac3c-486102c06c6a"
      },
      "execution_count": 120,
      "outputs": [
        {
          "output_type": "error",
          "ename": "SyntaxError",
          "evalue": "Missing parentheses in call to 'print'. Did you mean print(...)? (<ipython-input-120-f9775ddffda7>, line 12)",
          "traceback": [
            "\u001b[0;36m  File \u001b[0;32m\"<ipython-input-120-f9775ddffda7>\"\u001b[0;36m, line \u001b[0;32m12\u001b[0m\n\u001b[0;31m    print ValueError(\"Invalid unit: {}\".format(unit))\u001b[0m\n\u001b[0m    ^\u001b[0m\n\u001b[0;31mSyntaxError\u001b[0m\u001b[0;31m:\u001b[0m Missing parentheses in call to 'print'. Did you mean print(...)?\n"
          ]
        }
      ]
    },
    {
      "cell_type": "code",
      "source": [
        "numbers=[2,3,4,5,6]\n",
        "sum_square(numbers)"
      ],
      "metadata": {
        "colab": {
          "base_uri": "https://localhost:8080/"
        },
        "id": "eIlB4X1C0CZq",
        "outputId": "a915114e-cd8c-47b0-9f2b-0713fdee0008"
      },
      "execution_count": 121,
      "outputs": [
        {
          "output_type": "execute_result",
          "data": {
            "text/plain": [
              "90"
            ]
          },
          "metadata": {},
          "execution_count": 121
        }
      ]
    },
    {
      "cell_type": "code",
      "source": [
        "'''Write a Python function to find the sum of squares of the numbers in a list.\n",
        "Sample input: 2,1,3,1 Sample output: 15'''\n",
        "\n",
        "def sum_square(numbers):\n",
        "  sum_square = 0\n",
        "  for number in numbers:\n",
        "    sum_square += number**2\n",
        "  return sum_square"
      ],
      "metadata": {
        "id": "Lu6V4SSm016g"
      },
      "execution_count": 122,
      "outputs": []
    },
    {
      "cell_type": "code",
      "source": [
        "'''Write a Python function to find the most frequent item in a list of numbers.\n",
        "Sample input: 2, 3, 4, 2, 5, 2 Sample output: 2'''\n",
        "\n"
      ],
      "metadata": {
        "colab": {
          "base_uri": "https://localhost:8080/",
          "height": 35
        },
        "id": "CNTfdRYM024e",
        "outputId": "1fdeffdc-3fdd-42fc-8b69-2ede6aeb6f93"
      },
      "execution_count": 123,
      "outputs": [
        {
          "output_type": "execute_result",
          "data": {
            "text/plain": [
              "'Write a Python function to find the most frequent item in a list of numbers.\\nSample input: 2, 3, 4, 2, 5, 2 Sample output: 2'"
            ],
            "application/vnd.google.colaboratory.intrinsic+json": {
              "type": "string"
            }
          },
          "metadata": {},
          "execution_count": 123
        }
      ]
    },
    {
      "cell_type": "code",
      "source": [
        "Case Study: Student Record Management System\n",
        "In this case study, you will create a program that manages student records for\n",
        "a school or college. The program will allow the user (e.g., an administrator) to\n",
        "perform various operations on student data, such as adding new students,\n",
        "updating existing student information, and displaying student records.\n",
        "Requirements:\n",
        "1. The program should have a menu-driven interface that displays the\n",
        "following options:\n",
        "• Add a new student\n",
        "• Update student information\n",
        "• Display student records\n",
        "• Exit the program\n",
        "2. When adding a new student, the program should prompt the user to enter\n",
        "the following information:\n",
        "• Student ID (unique identifier)\n",
        "• Student name\n",
        "• Grade level (e.g., 9, 10, 11, 12)\n",
        "• GPA (Grade Point Average)\n",
        "3. When updating student information, the program should prompt the user\n",
        "to enter the student ID and then allow them to update the student's name,\n",
        "grade level, or GPA.\n",
        "4. When displaying student records, the program should provide options to:\n",
        "• Display all student records\n",
        "• Display records for a specific grade level\n",
        "• Display records for students with a GPA above a certain threshold\n",
        "5. The program should use appropriate data structures (e.g., lists,\n",
        "dictionaries) to store and manage student records.\n",
        "6. The program should have functions to perform the various operations\n",
        "(adding, updating, displaying) on student records.\n",
        "7. The program should handle errors and invalid inputs gracefully\n",
        "\n",
        " def display_student_records():\n",
        "    print(\"Displaying student records menu\")\n",
        "\n",
        "while True:\n",
        "    print(\"Enter (1) for Adding a new student\")\n",
        "    print(\"Enter (2) to Update student information\")\n",
        "    print(\"Enter (3) Display student records\")\n",
        "    print(\"Enter (4) Exit the program\")\n",
        "    n = input(\"Enter the number: \")\n",
        "\n",
        "    if n == '1':\n",
        "        add_new_student()\n",
        "\n",
        "        x = int(input(\"enter the name:\"))\n",
        "        print = x\n",
        "        break\n",
        "    elif n == '2':\n",
        "        update_student_information()\n",
        "        print(\"update information.\")\n",
        "        break\n",
        "    elif n == '3':\n",
        "        display_student_records()\n",
        "        break\n",
        "    elif n == '4':\n",
        "        print(\"Exiting the program.\")\n",
        "        break\n",
        "    else:\n",
        "        print(\"Invalid input! Please enter a number from 1 to 4.\")\n"
      ],
      "metadata": {
        "colab": {
          "base_uri": "https://localhost:8080/",
          "height": 106
        },
        "id": "w5hZSE9e08Yf",
        "outputId": "15b2bbe0-456a-42a6-e312-bb1b1b68eae4"
      },
      "execution_count": 124,
      "outputs": [
        {
          "output_type": "error",
          "ename": "SyntaxError",
          "evalue": "invalid character '•' (U+2022) (<ipython-input-124-67886cfc2eff>, line 9)",
          "traceback": [
            "\u001b[0;36m  File \u001b[0;32m\"<ipython-input-124-67886cfc2eff>\"\u001b[0;36m, line \u001b[0;32m9\u001b[0m\n\u001b[0;31m    • Add a new student\u001b[0m\n\u001b[0m    ^\u001b[0m\n\u001b[0;31mSyntaxError\u001b[0m\u001b[0;31m:\u001b[0m invalid character '•' (U+2022)\n"
          ]
        }
      ]
    },
    {
      "cell_type": "code",
      "source": [],
      "metadata": {
        "id": "DvU5Hrp77aiL"
      },
      "execution_count": null,
      "outputs": []
    }
  ]
}